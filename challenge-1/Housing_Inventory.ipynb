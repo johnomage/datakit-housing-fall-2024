{
 "cells": [
  {
   "cell_type": "markdown",
   "metadata": {},
   "source": [
    "# Understanding Housing Inventory\n",
    "In order to create policies and take action, housing actors need to understand the deficit–or surplus–in available housing units for households at different income levels. Without having this understanding, builders, policy-makers, and service providers do not have a clear understanding of how much inventory is needed, by when, to alleviate housing burdens in a community and support healthy community growth. In this challenge, you’ll work to generate insights, repeatable processes, and prototype tools for housing stakeholders to use to inform their community action.\n",
    "\n",
    " - The big question a housing stakeholder is trying to answer with the results of this challenge is: does my target community have a housing inventory surplus or deficit for my target service population?\n",
    " - The big question a community resident is trying to answer is: is there housing affordable to me in my target community?\n",
    " - \n",
    "## Community focus: Orlando\n",
    "The Christian Service Center, based in Central Florida, is looking to answer this specific inventory question for their service area of the MSA that is Orlando-Kissimmee-Sanford. Eric Gray, Executive Director of the Christian Service Center has tried to answer this question in several ways and is looking to the DataKind community for help. Eric and his team will be expert resources throughout the DataKit. If you’re local to Orlando, The Orlando Devs will be arranging a campus tour during the DataKit - stay tuned!\n",
    "\n",
    "## Get started with existing data\n",
    "In order to understand housing inventory needs, housing actors must understand the population living in their community across income levels. Housing stakeholders utilize a spectrum from extremely low income to upper income as the population income distribution, as published by the US Dept of Housing and Urban Development (HUD.) This spectrum is anchored by HUD/US Census calculations for area median income (AMI). AMI is also called median family income (MFI). The five segments of the housing and income spectrum are as follows:\n",
    "\n",
    " - Extremely low income: Below 30% of AMI\n",
    " - Very low income: Below 50% of AMI\n",
    " - Low income: Below 80% of AMI\n",
    " - Moderate income: Between 80% and 120% of AMI\n",
    " - Upper income: >120% AMI\n",
    "\n",
    "Continue reading <u>[here](https://github.com/datakind/datakit-housing-fall-2024/discussions/1).</u>"
   ]
  },
  {
   "cell_type": "markdown",
   "metadata": {},
   "source": [
    "Import Libraries"
   ]
  },
  {
   "cell_type": "code",
   "execution_count": 17,
   "metadata": {},
   "outputs": [
    {
     "data": {
      "text/plain": [
       "True"
      ]
     },
     "execution_count": 17,
     "metadata": {},
     "output_type": "execute_result"
    }
   ],
   "source": [
    "import pandas as pd\n",
    "import numpy as np\n",
    "import matplotlib.pyplot as plt\n",
    "import seaborn as sns\n",
    "import streamlit as st\n",
    "import os, sys\n",
    "from dotenv import load_dotenv, find_dotenv\n",
    "\n",
    "# Add directory two levels up from the current working directory to Python's module search path,\n",
    "# which allows modules import from that directory or its subdirectories.\n",
    "sys.path.append('../../')\n",
    "\n",
    "from column_mapper import map_column_names\n",
    "\n",
    "\n",
    "load_dotenv(find_dotenv('paths.env'))"
   ]
  },
  {
   "cell_type": "code",
   "execution_count": 18,
   "metadata": {},
   "outputs": [
    {
     "data": {
      "text/html": [
       "<div>\n",
       "<style scoped>\n",
       "    .dataframe tbody tr th:only-of-type {\n",
       "        vertical-align: middle;\n",
       "    }\n",
       "\n",
       "    .dataframe tbody tr th {\n",
       "        vertical-align: top;\n",
       "    }\n",
       "\n",
       "    .dataframe thead th {\n",
       "        text-align: right;\n",
       "    }\n",
       "</style>\n",
       "<table border=\"1\" class=\"dataframe\">\n",
       "  <thead>\n",
       "    <tr style=\"text-align: right;\">\n",
       "      <th></th>\n",
       "      <th>geoid</th>\n",
       "      <th>geoid_year</th>\n",
       "      <th>state</th>\n",
       "      <th>county</th>\n",
       "      <th>state_fips_code</th>\n",
       "      <th>county_fips_code</th>\n",
       "      <th>loan_amount</th>\n",
       "      <th>median_mortgage_amount</th>\n",
       "      <th>median_prop_value</th>\n",
       "      <th>median_sba504_loan_amount</th>\n",
       "      <th>...</th>\n",
       "      <th>s2701_c05_015e</th>\n",
       "      <th>s2701_c05_015m</th>\n",
       "      <th>s2701_c05_001e</th>\n",
       "      <th>s2701_c05_001m</th>\n",
       "      <th>b19083_001e</th>\n",
       "      <th>b19083_001m</th>\n",
       "      <th>economic_distress_pop_agg</th>\n",
       "      <th>economic_distress_simple_agg</th>\n",
       "      <th>investment_areas</th>\n",
       "      <th>opzone</th>\n",
       "    </tr>\n",
       "  </thead>\n",
       "  <tbody>\n",
       "    <tr>\n",
       "      <th>0</th>\n",
       "      <td>6001400400</td>\n",
       "      <td>2020</td>\n",
       "      <td>6</td>\n",
       "      <td>1</td>\n",
       "      <td>6</td>\n",
       "      <td>1</td>\n",
       "      <td>614.434904</td>\n",
       "      <td>825000.0</td>\n",
       "      <td>1775000.0</td>\n",
       "      <td>NaN</td>\n",
       "      <td>...</td>\n",
       "      <td>3.5</td>\n",
       "      <td>3.3</td>\n",
       "      <td>2.3</td>\n",
       "      <td>1.9</td>\n",
       "      <td>0.5063</td>\n",
       "      <td>0.0557</td>\n",
       "      <td>NO</td>\n",
       "      <td>NO</td>\n",
       "      <td>NO</td>\n",
       "      <td>0</td>\n",
       "    </tr>\n",
       "    <tr>\n",
       "      <th>1</th>\n",
       "      <td>6001400700</td>\n",
       "      <td>2020</td>\n",
       "      <td>6</td>\n",
       "      <td>1</td>\n",
       "      <td>6</td>\n",
       "      <td>1</td>\n",
       "      <td>7888.636063</td>\n",
       "      <td>585000.0</td>\n",
       "      <td>1225000.0</td>\n",
       "      <td>379000.0</td>\n",
       "      <td>...</td>\n",
       "      <td>2.8</td>\n",
       "      <td>2.2</td>\n",
       "      <td>2.5</td>\n",
       "      <td>1.6</td>\n",
       "      <td>0.4433</td>\n",
       "      <td>0.0512</td>\n",
       "      <td>YES</td>\n",
       "      <td>YES</td>\n",
       "      <td>YES</td>\n",
       "      <td>0</td>\n",
       "    </tr>\n",
       "    <tr>\n",
       "      <th>2</th>\n",
       "      <td>6001400800</td>\n",
       "      <td>2020</td>\n",
       "      <td>6</td>\n",
       "      <td>1</td>\n",
       "      <td>6</td>\n",
       "      <td>1</td>\n",
       "      <td>88162.749414</td>\n",
       "      <td>615000.0</td>\n",
       "      <td>995000.0</td>\n",
       "      <td>459500.0</td>\n",
       "      <td>...</td>\n",
       "      <td>0.0</td>\n",
       "      <td>2.1</td>\n",
       "      <td>2.9</td>\n",
       "      <td>2.9</td>\n",
       "      <td>0.5274</td>\n",
       "      <td>0.0727</td>\n",
       "      <td>NO</td>\n",
       "      <td>YES</td>\n",
       "      <td>YES</td>\n",
       "      <td>0</td>\n",
       "    </tr>\n",
       "    <tr>\n",
       "      <th>3</th>\n",
       "      <td>6001400900</td>\n",
       "      <td>2020</td>\n",
       "      <td>6</td>\n",
       "      <td>1</td>\n",
       "      <td>6</td>\n",
       "      <td>1</td>\n",
       "      <td>111849.950855</td>\n",
       "      <td>625000.0</td>\n",
       "      <td>1125000.0</td>\n",
       "      <td>329500.0</td>\n",
       "      <td>...</td>\n",
       "      <td>4.9</td>\n",
       "      <td>5.5</td>\n",
       "      <td>6.2</td>\n",
       "      <td>5.1</td>\n",
       "      <td>0.4619</td>\n",
       "      <td>0.0603</td>\n",
       "      <td>YES</td>\n",
       "      <td>YES</td>\n",
       "      <td>YES</td>\n",
       "      <td>0</td>\n",
       "    </tr>\n",
       "    <tr>\n",
       "      <th>4</th>\n",
       "      <td>6001401500</td>\n",
       "      <td>2020</td>\n",
       "      <td>6</td>\n",
       "      <td>1</td>\n",
       "      <td>6</td>\n",
       "      <td>1</td>\n",
       "      <td>269796.817978</td>\n",
       "      <td>515000.0</td>\n",
       "      <td>855000.0</td>\n",
       "      <td>391000.0</td>\n",
       "      <td>...</td>\n",
       "      <td>5.1</td>\n",
       "      <td>3.6</td>\n",
       "      <td>7.6</td>\n",
       "      <td>3.3</td>\n",
       "      <td>0.5611</td>\n",
       "      <td>0.0546</td>\n",
       "      <td>YES</td>\n",
       "      <td>YES</td>\n",
       "      <td>YES</td>\n",
       "      <td>1</td>\n",
       "    </tr>\n",
       "  </tbody>\n",
       "</table>\n",
       "<p>5 rows × 283 columns</p>\n",
       "</div>"
      ],
      "text/plain": [
       "        geoid  geoid_year  state  county  state_fips_code  county_fips_code  \\\n",
       "0  6001400400        2020      6       1                6                 1   \n",
       "1  6001400700        2020      6       1                6                 1   \n",
       "2  6001400800        2020      6       1                6                 1   \n",
       "3  6001400900        2020      6       1                6                 1   \n",
       "4  6001401500        2020      6       1                6                 1   \n",
       "\n",
       "     loan_amount  median_mortgage_amount  median_prop_value  \\\n",
       "0     614.434904                825000.0          1775000.0   \n",
       "1    7888.636063                585000.0          1225000.0   \n",
       "2   88162.749414                615000.0           995000.0   \n",
       "3  111849.950855                625000.0          1125000.0   \n",
       "4  269796.817978                515000.0           855000.0   \n",
       "\n",
       "   median_sba504_loan_amount  ...  s2701_c05_015e  s2701_c05_015m  \\\n",
       "0                        NaN  ...             3.5             3.3   \n",
       "1                   379000.0  ...             2.8             2.2   \n",
       "2                   459500.0  ...             0.0             2.1   \n",
       "3                   329500.0  ...             4.9             5.5   \n",
       "4                   391000.0  ...             5.1             3.6   \n",
       "\n",
       "   s2701_c05_001e  s2701_c05_001m  b19083_001e  b19083_001m  \\\n",
       "0             2.3             1.9       0.5063       0.0557   \n",
       "1             2.5             1.6       0.4433       0.0512   \n",
       "2             2.9             2.9       0.5274       0.0727   \n",
       "3             6.2             5.1       0.4619       0.0603   \n",
       "4             7.6             3.3       0.5611       0.0546   \n",
       "\n",
       "   economic_distress_pop_agg  economic_distress_simple_agg  investment_areas  \\\n",
       "0                         NO                            NO                NO   \n",
       "1                        YES                           YES               YES   \n",
       "2                         NO                           YES               YES   \n",
       "3                        YES                           YES               YES   \n",
       "4                        YES                           YES               YES   \n",
       "\n",
       "   opzone  \n",
       "0       0  \n",
       "1       0  \n",
       "2       0  \n",
       "3       0  \n",
       "4       1  \n",
       "\n",
       "[5 rows x 283 columns]"
      ]
     },
     "execution_count": 18,
     "metadata": {},
     "output_type": "execute_result"
    }
   ],
   "source": [
    "inventory = pd.read_csv('housing-data/ca/data_1-CA.csv')\n",
    "\n",
    "inventory.head()"
   ]
  },
  {
   "cell_type": "markdown",
   "metadata": {},
   "source": [
    "### Load column names meanings\n",
    "\n",
    "From dictionary provided in the housing data. This is important to know what coded feature names mean"
   ]
  },
  {
   "cell_type": "code",
   "execution_count": 22,
   "metadata": {},
   "outputs": [
    {
     "data": {
      "text/plain": [
       "dict_keys(['b19083_001e', 'b19083_001m', 'b23025_002e', 'b23025_002m', 'b23025_004e', 'b23025_004m', 'b23025_005e', 'b23025_005m', 'b23025_006e', 'b23025_006m', 'dp05_0035pe', 'dp05_0037pe', 'dp05_0038pe', 'dp05_0039pe', 'dp05_0044pe', 'dp05_0052pe', 'dp05_0057pe', 'economic_distress_pop_agg', 'economic_distress_simple_agg', 'investment_areas', 'loan_amount', 'median_mortgage_amount', 'median_prop_value', 'median_sba504_loan_amount', 'median_sba7a_loan_amount', 'num_mortgage', 'num_mortgage_denials', 'num_mortgage_originated', 'number_of_sba504_loans', 'number_of_sba7a_loans', 'opzone', 's0101_c01_032e', 's0101_c01_032m', 's0101_c02_020e', 's0101_c02_020m', 's0101_c02_021e', 's0101_c02_021m', 's0101_c02_022e', 's0101_c02_022m', 's0101_c02_023e', 's0101_c02_023m', 's0101_c02_024e', 's0101_c02_024m', 's0101_c02_025e', 's0101_c02_025m', 's0101_c02_026e', 's0101_c02_026m', 's0101_c02_027e', 's0101_c02_027m', 's0101_c02_028e', 's0101_c02_028m', 's0101_c02_029e', 's0101_c02_029m', 's0101_c02_030e', 's0101_c02_030m', 's0101_c02_031e', 's0101_c02_031m', 's0101_c03_032e', 's0101_c03_032m', 's0101_c04_020e', 's0101_c04_020m', 's0101_c04_021e', 's0101_c04_021m', 's0101_c04_022e', 's0101_c04_022m', 's0101_c04_023e', 's0101_c04_023m', 's0101_c04_024e', 's0101_c04_024m', 's0101_c04_025e', 's0101_c04_025m', 's0101_c04_026e', 's0101_c04_026m', 's0101_c04_027e', 's0101_c04_027m', 's0101_c04_028e', 's0101_c04_028m', 's0101_c04_029e', 's0101_c04_029m', 's0101_c04_030e', 's0101_c04_030m', 's0101_c04_031e', 's0101_c04_031m', 's0101_c05_032e', 's0101_c05_032m', 's0101_c06_020e', 's0101_c06_020m', 's0101_c06_021e', 's0101_c06_021m', 's0101_c06_022e', 's0101_c06_022m', 's0101_c06_023e', 's0101_c06_023m', 's0101_c06_024e', 's0101_c06_024m', 's0101_c06_025e', 's0101_c06_025m', 's0101_c06_026e', 's0101_c06_026m', 's0101_c06_027e', 's0101_c06_027m', 's0101_c06_028e', 's0101_c06_028m', 's0101_c06_029e', 's0101_c06_029m', 's0101_c06_030e', 's0101_c06_030m', 's0101_c06_031e', 's0101_c06_031m', 's1701_c03_001e', 's1701_c03_001m', 's1701_c03_002e', 's1701_c03_002m', 's1701_c03_003e', 's1701_c03_003m', 's1701_c03_004e', 's1701_c03_004m', 's1701_c03_006e', 's1701_c03_006m', 's1701_c03_007e', 's1701_c03_007m', 's1701_c03_008e', 's1701_c03_008m', 's1701_c03_009e', 's1701_c03_009m', 's1701_c03_010e', 's1701_c03_010m', 's1701_c03_011e', 's1701_c03_011m', 's1701_c03_012e', 's1701_c03_012m', 's1701_c03_013e', 's1701_c03_013m', 's1701_c03_014e', 's1701_c03_014m', 's1701_c03_015e', 's1701_c03_015m', 's1701_c03_016e', 's1701_c03_016m', 's1701_c03_017e', 's1701_c03_017m', 's1701_c03_018e', 's1701_c03_018m', 's1701_c03_019e', 's1701_c03_019m', 's1701_c03_020e', 's1701_c03_020m', 's1701_c03_021e', 's1701_c03_021m', 's1903_c03_001e', 's1903_c03_001m', 's1903_c03_002e', 's1903_c03_002m', 's1903_c03_003e', 's1903_c03_003m', 's1903_c03_004e', 's1903_c03_004m', 's1903_c03_005e', 's1903_c03_005m', 's1903_c03_006e', 's1903_c03_006m', 's1903_c03_007e', 's1903_c03_007m', 's1903_c03_008e', 's1903_c03_008m', 's1903_c03_009e', 's1903_c03_009m', 's1903_c03_010e', 's1903_c03_010m', 's1903_c03_011e', 's1903_c03_011m', 's1903_c03_012e', 's1903_c03_012m', 's1903_c03_013e', 's1903_c03_013m', 's1903_c03_014e', 's1903_c03_014m', 's2001_c01_002e', 's2001_c01_002m', 's2001_c03_002e', 's2001_c03_002m', 's2001_c05_002e', 's2001_c05_002m', 's2701_c03_001e', 's2701_c03_001m', 's2701_c03_002e', 's2701_c03_002m', 's2701_c03_003e', 's2701_c03_003m', 's2701_c03_004e', 's2701_c03_004m', 's2701_c03_005e', 's2701_c03_005m', 's2701_c03_006e', 's2701_c03_006m', 's2701_c03_007e', 's2701_c03_007m', 's2701_c03_008e', 's2701_c03_008m', 's2701_c03_009e', 's2701_c03_009m', 's2701_c03_010e', 's2701_c03_010m', 's2701_c03_011e', 's2701_c03_011m', 's2701_c03_012e', 's2701_c03_012m', 's2701_c03_013e', 's2701_c03_013m', 's2701_c03_014e', 's2701_c03_014m', 's2701_c03_015e', 's2701_c03_015m', 's2701_c03_016e', 's2701_c03_016m', 's2701_c03_017e', 's2701_c03_017m', 's2701_c03_018e', 's2701_c03_018m', 's2701_c03_019e', 's2701_c03_019m', 's2701_c03_020e', 's2701_c03_020m', 's2701_c03_021e', 's2701_c03_021m', 's2701_c03_022e', 's2701_c03_022m', 's2701_c03_023e', 's2701_c03_023m', 's2701_c03_024e', 's2701_c03_024m', 's2701_c05_001e', 's2701_c05_001m', 's2701_c05_002e', 's2701_c05_002m', 's2701_c05_003e', 's2701_c05_003m', 's2701_c05_004e', 's2701_c05_004m', 's2701_c05_005e', 's2701_c05_005m', 's2701_c05_006e', 's2701_c05_006m', 's2701_c05_007e', 's2701_c05_007m', 's2701_c05_008e', 's2701_c05_008m', 's2701_c05_009e', 's2701_c05_009m', 's2701_c05_010e', 's2701_c05_010m', 's2701_c05_011e', 's2701_c05_011m', 's2701_c05_012e', 's2701_c05_012m', 's2701_c05_013e', 's2701_c05_013m', 's2701_c05_014e', 's2701_c05_014m', 's2701_c05_015e', 's2701_c05_015m', 's2701_c05_016e', 's2701_c05_016m', 's2701_c05_017e', 's2701_c05_017m', 's2701_c05_018e', 's2701_c05_018m', 's2701_c05_019e', 's2701_c05_019m', 's2701_c05_020e', 's2701_c05_020m', 's2701_c05_021e', 's2701_c05_021m', 's2701_c05_022e', 's2701_c05_022m', 's2701_c05_023e', 's2701_c05_023m'])"
      ]
     },
     "execution_count": 22,
     "metadata": {},
     "output_type": "execute_result"
    }
   ],
   "source": [
    "head_dict = map_column_names(os.getenv('data_dictionary_1_CA'))\n",
    "head_dict.keys()"
   ]
  },
  {
   "cell_type": "code",
   "execution_count": 23,
   "metadata": {},
   "outputs": [
    {
     "data": {
      "text/plain": [
       "'ACS - Percentage of Noninstitutionalized Population without Health Insurance (Uninsured) - By Age - 55 to 64 years - Margin of Error'"
      ]
     },
     "execution_count": 23,
     "metadata": {},
     "output_type": "execute_result"
    }
   ],
   "source": [
    "head_dict['s2701_c05_008m']"
   ]
  },
  {
   "cell_type": "code",
   "execution_count": null,
   "metadata": {},
   "outputs": [],
   "source": []
  }
 ],
 "metadata": {
  "kernelspec": {
   "display_name": "Python 3",
   "language": "python",
   "name": "python3"
  },
  "language_info": {
   "codemirror_mode": {
    "name": "ipython",
    "version": 3
   },
   "file_extension": ".py",
   "mimetype": "text/x-python",
   "name": "python",
   "nbconvert_exporter": "python",
   "pygments_lexer": "ipython3",
   "version": "3.12.6"
  }
 },
 "nbformat": 4,
 "nbformat_minor": 2
}
